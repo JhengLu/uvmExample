{
 "cells": [
  {
   "cell_type": "code",
   "execution_count": 20,
   "metadata": {},
   "outputs": [
    {
     "name": "stdout",
     "output_type": "stream",
     "text": [
      "The tensor is allocated with UVM and not on a CPU.\n"
     ]
    }
   ],
   "source": [
    "import torch\n",
    "import fbgemm_gpu\n",
    "\n",
    "# Check if CUDA (GPU) is available\n",
    "if torch.cuda.is_available():\n",
    "    device = torch.device(\"cuda\")\n",
    "else:\n",
    "    raise RuntimeError(\"CUDA is not available. Make sure you have a compatible GPU.\")\n",
    "\n",
    "# Example tensor dimensions\n",
    "tensor_sizes = [10, 10]\n",
    "\n",
    "# Allocate a UVM tensor on the GPU\n",
    "uvm_tensor = torch.ops.fbgemm.new_managed_tensor(torch.Tensor().to(device), tensor_sizes)\n",
    "# Check if the tensor is allocated with UVM\n",
    "if torch.ops.fbgemm.is_uvm_tensor(uvm_tensor):\n",
    "    print(\"The tensor is allocated with UVM and not on a CPU.\")"
   ]
  },
  {
   "cell_type": "code",
   "execution_count": 22,
   "metadata": {},
   "outputs": [
    {
     "name": "stdout",
     "output_type": "stream",
     "text": [
      "The tensor is allocated with UVM and not on a CPU.\n"
     ]
    }
   ],
   "source": [
    "# Create a UVM tensor on the same device as another tensor\n",
    "prototype_tensor = torch.Tensor().cuda()  # example prototype tensor on CUDA\n",
    "uvm_tensor_on_device = torch.ops.fbgemm.uvm_to_device(uvm_tensor, prototype_tensor)\n",
    "if torch.ops.fbgemm.is_uvm_tensor(uvm_tensor_on_device):\n",
    "    print(\"The tensor is allocated with UVM and not on a CPU.\")\n",
    "else:\n",
    "    print(\"The tensor is allocated with UVM and on a CPU.\")"
   ]
  },
  {
   "cell_type": "code",
   "execution_count": 19,
   "metadata": {},
   "outputs": [
    {
     "name": "stdout",
     "output_type": "stream",
     "text": [
      "this is a tensor allocated with UVM\n",
      "The tensor is allocated with UVM and on a CPU.\n"
     ]
    }
   ],
   "source": [
    "# Convert UVM tensor to CPU tensor\n",
    "cpu_tensor = torch.ops.fbgemm.uvm_to_cpu(uvm_tensor)\n",
    "if torch.ops.fbgemm.uvm_storage(cpu_tensor):\n",
    "    print(\"this is a tensor allocated with UVM\")\n",
    "else:\n",
    "    print(\"this is not a tensor allocated with UVM\")\n",
    "\n",
    "if torch.ops.fbgemm.is_uvm_tensor(cpu_tensor):\n",
    "    print(\"The tensor is allocated with UVM and not on a CPU.\")\n",
    "else:\n",
    "    print(\"The tensor is allocated with UVM and on a CPU.\")"
   ]
  }
 ],
 "metadata": {
  "kernelspec": {
   "display_name": "env38",
   "language": "python",
   "name": "python3"
  },
  "language_info": {
   "codemirror_mode": {
    "name": "ipython",
    "version": 3
   },
   "file_extension": ".py",
   "mimetype": "text/x-python",
   "name": "python",
   "nbconvert_exporter": "python",
   "pygments_lexer": "ipython3",
   "version": "3.11.5"
  }
 },
 "nbformat": 4,
 "nbformat_minor": 2
}
